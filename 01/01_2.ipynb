{
 "cells": [
  {
   "cell_type": "code",
   "execution_count": 1,
   "id": "80edc4a1",
   "metadata": {},
   "outputs": [],
   "source": [
    "import torch\n",
    "from torch import nn\n",
    "import matplotlib.pyplot as plt\n",
    "import numpy as np"
   ]
  },
  {
   "cell_type": "markdown",
   "id": "7bf7b630",
   "metadata": {},
   "source": [
    "## Putting it all together"
   ]
  },
  {
   "cell_type": "code",
   "execution_count": 15,
   "id": "165d362f",
   "metadata": {},
   "outputs": [],
   "source": [
    "device = torch.device(\"cuda\" if torch.cuda.is_available() else \"cpu\")"
   ]
  },
  {
   "cell_type": "code",
   "execution_count": 16,
   "id": "37483eda",
   "metadata": {},
   "outputs": [
    {
     "data": {
      "text/plain": [
       "(tensor([[0.0000],\n",
       "         [0.2000],\n",
       "         [0.4000],\n",
       "         [0.6000],\n",
       "         [0.8000]]),\n",
       " tensor([[0.2000],\n",
       "         [0.3000],\n",
       "         [0.4000],\n",
       "         [0.5000],\n",
       "         [0.6000]]))"
      ]
     },
     "execution_count": 16,
     "metadata": {},
     "output_type": "execute_result"
    }
   ],
   "source": [
    "# Data\n",
    "\n",
    "weight = 0.5\n",
    "bias  = 0.2\n",
    "\n",
    "# Create range of values\n",
    "\n",
    "start = 0\n",
    "end = 100\n",
    "step = 0.2\n",
    "\n",
    "X = torch.arange(start, end, step, dtype=torch.float32).unsqueeze(1)\n",
    "y = weight*X + bias\n",
    "X[:5], y[:5]"
   ]
  },
  {
   "cell_type": "code",
   "execution_count": 17,
   "id": "5b0bde20",
   "metadata": {},
   "outputs": [],
   "source": [
    "# Split data into training and testing sets\n",
    "train_split = int(0.8 * len(X))\n",
    "X_train, y_train = X[:train_split], y[:train_split]\n",
    "X_test, y_test = X[train_split:], y[train_split:]"
   ]
  },
  {
   "cell_type": "code",
   "execution_count": 18,
   "id": "2d5821b3",
   "metadata": {},
   "outputs": [
    {
     "data": {
      "image/png": "[encoded data removed]",
      "text/plain": [
       "<Figure size 1000x700 with 1 Axes>"
      ]
     },
     "metadata": {},
     "output_type": "display_data"
    }
   ],
   "source": [
    "def plot_predictions(train_data = X_train,\n",
    "                     train_labels = y_train,\n",
    "                     test_data = X_test,\n",
    "                     test_labels = y_test,\n",
    "                     predictions = None):\n",
    "    \n",
    "    plt.figure(figsize=(10,7))\n",
    "\n",
    "    plt.scatter(train_data,train_labels,c=\"b\",s=4,label=\"Training data\")\n",
    "    plt.scatter(test_data,test_labels,c=\"g\",s=4,label=\"Testing data\")\n",
    "\n",
    "    if predictions is not None:\n",
    "        plt.scatter(test_labels,predictions,c=\"r\",s=4,label=\"Predictions\")\n",
    "    \n",
    "    plt.legend(prop={\"size\":14})\n",
    "    plt.show()\n",
    "\n",
    "plot_predictions()"
   ]
  },
  {
   "cell_type": "code",
   "execution_count": 19,
   "id": "6e8765d2",
   "metadata": {},
   "outputs": [
    {
     "data": {
      "text/plain": [
       "<torch._C.Generator at 0x258fe5df610>"
      ]
     },
     "execution_count": 19,
     "metadata": {},
     "output_type": "execute_result"
    }
   ],
   "source": [
    "class LinearRegressionModel(nn.Module):\n",
    "    def __init__(self):\n",
    "        super().__init__()\n",
    "        self.linear = nn.Linear(in_features=1,out_features=1)\n",
    "    \n",
    "    def forward(self, x: torch.Tensor) -> torch.Tensor:\n",
    "        return self.linear(x)\n",
    "\n",
    "# manual seed for reproducibility\n",
    "torch.manual_seed(42)\n"
   ]
  },
  {
   "cell_type": "code",
   "execution_count": 20,
   "id": "c663fb0c",
   "metadata": {},
   "outputs": [
    {
     "data": {
      "text/plain": [
       "LinearRegressionModel(\n",
       "  (linear): Linear(in_features=1, out_features=1, bias=True)\n",
       ")"
      ]
     },
     "execution_count": 20,
     "metadata": {},
     "output_type": "execute_result"
    }
   ],
   "source": [
    "model_1 = LinearRegressionModel()\n",
    "model_1.state_dict()\n",
    "model_1.to(device)"
   ]
  },
  {
   "cell_type": "code",
   "execution_count": null,
   "id": "6d250bd9",
   "metadata": {},
   "outputs": [
    {
     "name": "stdout",
     "output_type": "stream",
     "text": [
      "Training on: cuda\n",
      "Epoch: 0 | Loss: 15.44201 | Test Loss: 1.08723\n",
      "Epoch: 10 | Loss: 15.44201 | Test Loss: 1.08723\n",
      "Epoch: 20 | Loss: 15.44201 | Test Loss: 1.08723\n",
      "Epoch: 30 | Loss: 15.44201 | Test Loss: 1.08723\n",
      "Epoch: 40 | Loss: 15.44201 | Test Loss: 1.08723\n",
      "Epoch: 50 | Loss: 15.44201 | Test Loss: 1.08723\n",
      "Epoch: 60 | Loss: 15.44201 | Test Loss: 1.08723\n",
      "Epoch: 70 | Loss: 15.44201 | Test Loss: 1.08723\n",
      "Epoch: 80 | Loss: 15.44201 | Test Loss: 1.08723\n",
      "Epoch: 90 | Loss: 15.44201 | Test Loss: 1.08723\n",
      "Epoch: 100 | Loss: 15.44201 | Test Loss: 1.08723\n",
      "Epoch: 110 | Loss: 15.44201 | Test Loss: 1.08723\n",
      "Epoch: 120 | Loss: 15.44201 | Test Loss: 1.08723\n",
      "Epoch: 130 | Loss: 15.44201 | Test Loss: 1.08723\n",
      "Epoch: 140 | Loss: 15.44201 | Test Loss: 1.08723\n",
      "Epoch: 150 | Loss: 15.44201 | Test Loss: 1.08723\n",
      "Epoch: 160 | Loss: 15.44201 | Test Loss: 1.08723\n",
      "Epoch: 170 | Loss: 15.44201 | Test Loss: 1.08723\n",
      "Epoch: 180 | Loss: 15.44201 | Test Loss: 1.08723\n",
      "Epoch: 190 | Loss: 15.44201 | Test Loss: 1.08723\n",
      "Epoch: 200 | Loss: 15.44201 | Test Loss: 1.08723\n",
      "Epoch: 210 | Loss: 15.44201 | Test Loss: 1.08723\n",
      "Epoch: 220 | Loss: 15.44201 | Test Loss: 1.08723\n",
      "Epoch: 230 | Loss: 15.44201 | Test Loss: 1.08723\n",
      "Epoch: 240 | Loss: 15.44201 | Test Loss: 1.08723\n",
      "Epoch: 250 | Loss: 15.44201 | Test Loss: 1.08723\n",
      "Epoch: 260 | Loss: 15.44201 | Test Loss: 1.08723\n",
      "Epoch: 270 | Loss: 15.44201 | Test Loss: 1.08723\n",
      "Epoch: 280 | Loss: 15.44201 | Test Loss: 1.08723\n",
      "Epoch: 290 | Loss: 15.44201 | Test Loss: 1.08723\n",
      "Epoch: 300 | Loss: 15.44201 | Test Loss: 1.08723\n",
      "Epoch: 310 | Loss: 15.44201 | Test Loss: 1.08723\n",
      "Epoch: 320 | Loss: 15.44201 | Test Loss: 1.08723\n",
      "Epoch: 330 | Loss: 15.44201 | Test Loss: 1.08723\n",
      "Epoch: 340 | Loss: 15.44201 | Test Loss: 1.08723\n",
      "Epoch: 350 | Loss: 15.44201 | Test Loss: 1.08723\n",
      "Epoch: 360 | Loss: 15.44201 | Test Loss: 1.08723\n",
      "Epoch: 370 | Loss: 15.44201 | Test Loss: 1.08723\n",
      "Epoch: 380 | Loss: 15.44201 | Test Loss: 1.08723\n",
      "Epoch: 390 | Loss: 15.44201 | Test Loss: 1.08723\n",
      "Epoch: 400 | Loss: 15.44201 | Test Loss: 1.08723\n",
      "Epoch: 410 | Loss: 15.44201 | Test Loss: 1.08723\n",
      "Epoch: 420 | Loss: 15.44201 | Test Loss: 1.08723\n",
      "Epoch: 430 | Loss: 15.44201 | Test Loss: 1.08723\n",
      "Epoch: 440 | Loss: 15.44201 | Test Loss: 1.08723\n",
      "Epoch: 450 | Loss: 15.44201 | Test Loss: 1.08723\n",
      "Epoch: 460 | Loss: 15.44201 | Test Loss: 1.08723\n",
      "Epoch: 470 | Loss: 15.44201 | Test Loss: 1.08723\n",
      "Epoch: 480 | Loss: 15.44201 | Test Loss: 1.08723\n",
      "Epoch: 490 | Loss: 15.44201 | Test Loss: 1.08723\n",
      "Epoch: 500 | Loss: 15.44201 | Test Loss: 1.08723\n",
      "Epoch: 510 | Loss: 15.44201 | Test Loss: 1.08723\n",
      "Epoch: 520 | Loss: 15.44201 | Test Loss: 1.08723\n",
      "Epoch: 530 | Loss: 15.44201 | Test Loss: 1.08723\n",
      "Epoch: 540 | Loss: 15.44201 | Test Loss: 1.08723\n",
      "Epoch: 550 | Loss: 15.44201 | Test Loss: 1.08723\n",
      "Epoch: 560 | Loss: 15.44201 | Test Loss: 1.08723\n",
      "Epoch: 570 | Loss: 15.44201 | Test Loss: 1.08723\n",
      "Epoch: 580 | Loss: 15.44201 | Test Loss: 1.08723\n",
      "Epoch: 590 | Loss: 15.44201 | Test Loss: 1.08723\n",
      "Epoch: 600 | Loss: 15.44201 | Test Loss: 1.08723\n",
      "Epoch: 610 | Loss: 15.44201 | Test Loss: 1.08723\n",
      "Epoch: 620 | Loss: 15.44201 | Test Loss: 1.08723\n",
      "Epoch: 630 | Loss: 15.44201 | Test Loss: 1.08723\n",
      "Epoch: 640 | Loss: 15.44201 | Test Loss: 1.08723\n",
      "Epoch: 650 | Loss: 15.44201 | Test Loss: 1.08723\n",
      "Epoch: 660 | Loss: 15.44201 | Test Loss: 1.08723\n",
      "Epoch: 670 | Loss: 15.44201 | Test Loss: 1.08723\n",
      "Epoch: 680 | Loss: 15.44201 | Test Loss: 1.08723\n",
      "Epoch: 690 | Loss: 15.44201 | Test Loss: 1.08723\n",
      "Epoch: 700 | Loss: 15.44201 | Test Loss: 1.08723\n",
      "Epoch: 710 | Loss: 15.44201 | Test Loss: 1.08723\n",
      "Epoch: 720 | Loss: 15.44201 | Test Loss: 1.08723\n",
      "Epoch: 730 | Loss: 15.44201 | Test Loss: 1.08723\n",
      "Epoch: 740 | Loss: 15.44201 | Test Loss: 1.08723\n",
      "Epoch: 750 | Loss: 15.44201 | Test Loss: 1.08723\n",
      "Epoch: 760 | Loss: 15.44201 | Test Loss: 1.08723\n",
      "Epoch: 770 | Loss: 15.44201 | Test Loss: 1.08723\n",
      "Epoch: 780 | Loss: 15.44201 | Test Loss: 1.08723\n",
      "Epoch: 790 | Loss: 15.44201 | Test Loss: 1.08723\n",
      "Epoch: 800 | Loss: 15.44201 | Test Loss: 1.08723\n",
      "Epoch: 810 | Loss: 15.44201 | Test Loss: 1.08723\n",
      "Epoch: 820 | Loss: 15.44201 | Test Loss: 1.08723\n",
      "Epoch: 830 | Loss: 15.44201 | Test Loss: 1.08723\n",
      "Epoch: 840 | Loss: 15.44201 | Test Loss: 1.08723\n",
      "Epoch: 850 | Loss: 15.44201 | Test Loss: 1.08723\n",
      "Epoch: 860 | Loss: 15.44201 | Test Loss: 1.08723\n",
      "Epoch: 870 | Loss: 15.44201 | Test Loss: 1.08723\n",
      "Epoch: 880 | Loss: 15.44201 | Test Loss: 1.08723\n",
      "Epoch: 890 | Loss: 15.44201 | Test Loss: 1.08723\n",
      "Epoch: 900 | Loss: 15.44201 | Test Loss: 1.08723\n",
      "Epoch: 910 | Loss: 15.44201 | Test Loss: 1.08723\n",
      "Epoch: 920 | Loss: 15.44201 | Test Loss: 1.08723\n",
      "Epoch: 930 | Loss: 15.44201 | Test Loss: 1.08723\n",
      "Epoch: 940 | Loss: 15.44201 | Test Loss: 1.08723\n",
      "Epoch: 950 | Loss: 15.44201 | Test Loss: 1.08723\n",
      "Epoch: 960 | Loss: 15.44201 | Test Loss: 1.08723\n",
      "Epoch: 970 | Loss: 15.44201 | Test Loss: 1.08723\n",
      "Epoch: 980 | Loss: 15.44201 | Test Loss: 1.08723\n",
      "Epoch: 990 | Loss: 15.44201 | Test Loss: 1.08723\n"
     ]
    }
   ],
   "source": [
    "## Train the model\n",
    "loss_fn = nn.L1Loss()\n",
    "optimizer = torch.optim.SGD(params=model_1.parameters(), lr=0.01)\n",
    "\n",
    "# Move data to device\n",
    "X_train = X_train.to(device)\n",
    "y_train = y_train.to(device)\n",
    "X_test = X_test.to(device)\n",
    "y_test = y_test.to(device)\n",
    "\n",
    "# Setup training\n",
    "epochs = 1000\n",
    "train_losses = []\n",
    "test_losses = []\n",
    "best_test_loss = float('inf')\n",
    "\n",
    "# Training loop\n",
    "print(f\"Training on: {device}\")\n",
    "for epoch in range(epochs):\n",
    "    # Training\n",
    "    model_1.train()\n",
    "    \n",
    "    # 1. Forward pass\n",
    "    y_pred = model_1(X_train)\n",
    "    \n",
    "    # 2. Calculate loss\n",
    "    loss = loss_fn(y_pred, y_train)\n",
    "    train_losses.append(loss.item())\n",
    "    \n",
    "    # 3. Optimizer zero grad\n",
    "    optimizer.zero_grad()\n",
    "    \n",
    "    # 4. Loss backward\n",
    "    loss.backward()\n",
    "    \n",
    "    # 5. Optimizer step\n",
    "    optimizer.step()\n",
    "    \n",
    "    # Testing\n",
    "    model_1.eval()\n",
    "    with torch.inference_mode():\n",
    "        y_test_pred = model_1(X_test)\n",
    "        test_loss = loss_fn(y_test_pred, y_test)\n",
    "        test_losses.append(test_loss.item())\n",
    "        \n",
    "        # Save best model\n",
    "        if test_loss < best_test_loss:\n",
    "            best_test_loss = test_loss\n",
    "            torch.save(model_1.state_dict(), '../models/best_linear_model.pth')\n",
    "    \n",
    "    # Print progress\n",
    "    if epoch % 100 == 0 or epoch == epochs-1:\n",
    "        print(f\"Epoch: {epoch}/{epochs} | Loss: {loss:.5f} | Test Loss: {test_loss:.5f}\")\n",
    "\n",
    "# Plot the loss curves\n",
    "plt.figure(figsize=(10, 6))\n",
    "plt.plot(train_losses, label=\"Train loss\")\n",
    "plt.plot(test_losses, label=\"Test loss\")\n",
    "plt.title(\"Training and Testing Loss Curves\")\n",
    "plt.xlabel(\"Epochs\")\n",
    "plt.ylabel(\"Loss\")\n",
    "plt.legend()\n",
    "plt.grid(True)\n",
    "plt.show()\n",
    "\n",
    "# Load best model and make predictions\n",
    "model_1.load_state_dict(torch.load('../models/best_linear_model.pth'))\n",
    "model_1.eval()\n",
    "\n",
    "with torch.inference_mode():\n",
    "    y_preds = model_1(X_test)\n",
    "    \n",
    "# Plot predictions\n",
    "plot_predictions(predictions=y_preds.cpu())\n",
    "\n",
    "# Display final model parameters\n",
    "print(f\"Final model parameters:\")\n",
    "for name, param in model_1.named_parameters():\n",
    "    print(f\"{name}: {param.data.flatten().tolist()}\")\n",
    "\n",
    "# Compare with true parameters\n",
    "print(f\"\\nTrue parameters:\")\n",
    "print(f\"Weight: {weight}, Bias: {bias}\")"
   ]
  }
 ],
 "metadata": {
  "kernelspec": {
   "display_name": "Python 3",
   "language": "python",
   "name": "python3"
  },
  "language_info": {
   "codemirror_mode": {
    "name": "ipython",
    "version": 3
   },
   "file_extension": ".py",
   "mimetype": "text/x-python",
   "name": "python",
   "nbconvert_exporter": "python",
   "pygments_lexer": "ipython3",
   "version": "3.13.3"
  }
 },
 "nbformat": 4,
 "nbformat_minor": 5
}
